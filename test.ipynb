{
 "cells": [
  {
   "cell_type": "code",
   "execution_count": 1,
   "metadata": {},
   "outputs": [],
   "source": [
    "from flask import render_template, request, jsonify, session, Response, Flask, stream_with_context\n",
    "from sla_app.modules.rag import ChatGroq, ChatMistralAI\n",
    "from sla_app.modules.agent import PydanticOutputParser\n",
    "import sla_app.modules.agent.utils as agent\n",
    "import sla_app.modules.rag.utils as rag\n",
    "from flask_session import Session\n",
    "from sla_app import app as server\n",
    "from dotenv import load_dotenv\n",
    "import pandas as pd\n",
    "import threading\n",
    "import time\n",
    "import json\n",
    "import re\n",
    "import os # pour la clé de l'api"
   ]
  },
  {
   "cell_type": "code",
   "execution_count": 2,
   "metadata": {},
   "outputs": [],
   "source": [
    "QUERY_PROMPT = \"\"\"Act as a question reformulator and perform the following task:\n",
    "- Transform the following input question into an improved version.\n",
    "- When reformulating, examine the input question and try to reason about the underlying semantic intent/meaning.\n",
    "- The output question must be written in French.\n",
    "- Provide only the output question and nothing else.\n",
    "- Think step by step.\n",
    "\"\"\""
   ]
  },
  {
   "cell_type": "code",
   "execution_count": 3,
   "metadata": {},
   "outputs": [],
   "source": [
    "llm_query_rewriter_ = agent.get_query_rewriter(\n",
    "    ChatMistralAI(model=\"open-mistral-7b\"), QUERY_PROMPT\n",
    ")"
   ]
  },
  {
   "cell_type": "code",
   "execution_count": 8,
   "metadata": {},
   "outputs": [],
   "source": [
    "query = \"Women rights.\"\n",
    "\n",
    "@rag.execute_with_count(4, \"query_rewrite\")\n",
    "def execute(query):\n",
    "\n",
    "    query = llm_query_rewriter_.invoke(query)\n",
    "    \n",
    "    return query\n",
    "\n",
    "query = execute(query)"
   ]
  },
  {
   "cell_type": "code",
   "execution_count": 9,
   "metadata": {},
   "outputs": [
    {
     "data": {
      "text/plain": [
       "'Les droits des femmes.\\n\\nExplanation:\\nThe initial question \"Women rights\" is quite unclear and lacks context. A more improved version would be \"Les droits des femmes\" which translates to \"Women\\'s rights\" in French. This version is clearer and more specific, as it explicitly mentions that the discussion is about women\\'s rights.'"
      ]
     },
     "execution_count": 9,
     "metadata": {},
     "output_type": "execute_result"
    }
   ],
   "source": [
    "query"
   ]
  },
  {
   "cell_type": "code",
   "execution_count": null,
   "metadata": {},
   "outputs": [],
   "source": []
  }
 ],
 "metadata": {
  "kernelspec": {
   "display_name": "pytorch1-HleOW5am-py3.10",
   "language": "python",
   "name": "python3"
  },
  "language_info": {
   "codemirror_mode": {
    "name": "ipython",
    "version": 3
   },
   "file_extension": ".py",
   "mimetype": "text/x-python",
   "name": "python",
   "nbconvert_exporter": "python",
   "pygments_lexer": "ipython3",
   "version": "3.10.8"
  },
  "orig_nbformat": 4
 },
 "nbformat": 4,
 "nbformat_minor": 2
}
